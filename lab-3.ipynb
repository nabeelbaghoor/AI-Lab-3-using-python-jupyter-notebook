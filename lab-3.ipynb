{
  "nbformat": 4,
  "nbformat_minor": 0,
  "metadata": {
    "colab": {
      "name": "l181097.ipynb",
      "provenance": [],
      "collapsed_sections": [],
      "authorship_tag": "ABX9TyN0e9gwvjg4e2YPxfNBj8m2",
      "include_colab_link": true
    },
    "kernelspec": {
      "name": "python3",
      "display_name": "Python 3"
    },
    "language_info": {
      "name": "python"
    },
    "accelerator": "GPU"
  },
  "cells": [
    {
      "cell_type": "markdown",
      "metadata": {
        "id": "view-in-github",
        "colab_type": "text"
      },
      "source": [
        "<a href=\"https://colab.research.google.com/github/nabeelbaghoor/AI-Labs-/blob/main/lab-3.ipynb\" target=\"_parent\"><img src=\"https://colab.research.google.com/assets/colab-badge.svg\" alt=\"Open In Colab\"/></a>"
      ]
    },
    {
      "cell_type": "markdown",
      "metadata": {
        "id": "_Fb8o_ykhdGT"
      },
      "source": [
        "\n",
        "\n",
        "### **Execute everything in given order from top to bottom order**\n",
        "\n"
      ]
    },
    {
      "cell_type": "code",
      "metadata": {
        "id": "DMPh-3TvhOol",
        "colab": {
          "base_uri": "https://localhost:8080/"
        },
        "outputId": "ec4e89e6-2f6a-485f-94ec-d6a39408f1f5"
      },
      "source": [
        "from google.colab import drive\n",
        "drive.mount(\"/content/drive\")"
      ],
      "execution_count": 6,
      "outputs": [
        {
          "output_type": "stream",
          "text": [
            "Mounted at /content/drive\n"
          ],
          "name": "stdout"
        }
      ]
    },
    {
      "cell_type": "code",
      "metadata": {
        "colab": {
          "base_uri": "https://localhost:8080/"
        },
        "id": "a6zDyLNiVu0x",
        "outputId": "0a92b2db-27a6-4ef9-a0f3-835502019fc5"
      },
      "source": [
        "# %tensorflow_version 2.x # for gpu use \n",
        "import tensorflow as tf\n",
        "\n",
        "device_name = tf.test.gpu_device_name() \n",
        "if device_name != '/device:GPU:0': \n",
        "  raise SystemError('GPU device not found') \n",
        "print('Found GPU at: {}'.format(device_name))"
      ],
      "execution_count": 1,
      "outputs": [
        {
          "output_type": "stream",
          "text": [
            "Found GPU at: /device:GPU:0\n"
          ],
          "name": "stdout"
        }
      ]
    },
    {
      "cell_type": "code",
      "metadata": {
        "id": "AUWv-VBy1h_w"
      },
      "source": [
        "def getWordsList(filename):\n",
        "  #Work Flow\n",
        "  # 1- Read the file, getWordsList(filename)\n",
        "  file = open(\"/content/drive/MyDrive/DataSets/\"+filename,'r')\n",
        "  text = file.read()\n",
        "  file.close()\n",
        "  # Apply 4 conditions\n",
        "  # i- Convert text to lowercase (use text.lowercase() function)\n",
        "  text = text.lower()\n",
        "  # ii- Split the text into words (use text.split(separater) function)\n",
        "  listOfWords = text.split(' ')\n",
        "  # iii- Remove words having numeric character/s\n",
        "  #text = \"about Has3asasH j,kj,k,j kk,kj jlk,j1 1 kk kk kk fahad\"\n",
        "  flag = 1\n",
        "  nonNumericWords = []\n",
        "  for word in listOfWords:\n",
        "    flag = 1\n",
        "    for s in word:\n",
        "      if s.isdigit():\n",
        "        flag = 0\n",
        "        break\n",
        "    if (flag==1):\n",
        "      nonNumericWords.append(word)\n",
        "  #print(nonNumericWords)\n",
        "  # iv- Apply 3rd filter/condition\n",
        "  wordsToRemove = []\n",
        "  special_chars_found = False\n",
        "  for word in nonNumericWords:\n",
        "    for s in word:\n",
        "      if (not(s >= 'A'and s <= 'Z') and not(s >= 'a' and s <= 'z')):\n",
        "          wordsToRemove.append(word)\n",
        "          splittedWords = word.split(s,1)\n",
        "          nonNumericWords.append(splittedWords[0])\n",
        "          nonNumericWords.append(splittedWords[1])\n",
        "          break\n",
        "  nonNumericWords = [word for word in nonNumericWords if word not in wordsToRemove]\n",
        "  #print(nonNumericWords)\n",
        "  # v- Remove stop words\n",
        "  stopWordsFile = open(\"/content/drive/MyDrive/DataSets/StopWords.txt\",'r')\n",
        "  stopWordsText = stopWordsFile.read()\n",
        "  stopWordsFile.close\n",
        "  stopWordsText = stopWordsText.lower()\n",
        "  stopWordsList = stopWordsText.split('\\n')\n",
        "  nonNumericWords = [word for word in nonNumericWords if word not in stopWordsList]\n",
        "  # 2- Get list of words from getWordsList function, store the words and their counts in appropriate\n",
        "  # data structure (this data structure will store the words from all text files)\n",
        "  filteredWordsDictionary = {}\n",
        "  for word in nonNumericWords:\n",
        "        filteredWordsDictionary[word] = nonNumericWords.count(word)\n",
        "  #print(filteredWordsDictionary)\n",
        "  return filteredWordsDictionary"
      ],
      "execution_count": 30,
      "outputs": []
    },
    {
      "cell_type": "code",
      "metadata": {
        "id": "4CJg-nytO5kP"
      },
      "source": [
        "def printWords(resultantDictionary):\n",
        "  totalWords = len(resultantDictionary)\n",
        "  print(\"Word : Count : Probabilty\")\n",
        "  #sort the dictionary\n",
        "  sortedResultantList = sorted(resultantDictionary, key=resultantDictionary.get,reverse=True)\n",
        "  sortedResultantDictionary = {}\n",
        "  count = 0\n",
        "  for item in sortedResultantList:\n",
        "    sortedResultantDictionary[item] = resultantDictionary[item]\n",
        "    count = count + 1\n",
        "    if(count >= 100):\n",
        "      break\n",
        "  #Note: To make it efficient, we selected 100 words with higher repetitions and then we will go for finding there probabilies. In this case we will be\n",
        "  #required to find probability of only 100 words.(It will b valid as having higher repetition means higher porbabilty)\n",
        "\n",
        "  #sortedResultantDictionary = sorted(resultantDictionary.items(), key=lambda x: x[1], reverse=True)\n",
        "  #print Word, count and its probability\n",
        "  for key, value in sortedResultantDictionary.items():\n",
        "    prob = value / totalWords\n",
        "    print(str(key) + \" : \" + str(value)+\" : \" + str(prob))"
      ],
      "execution_count": 36,
      "outputs": []
    },
    {
      "cell_type": "code",
      "metadata": {
        "id": "sj8HHRtfrdrc"
      },
      "source": [
        "# 3- Use getWordsList function for all the files one by one and continue until # all files are read and filtered\n",
        "# and merege all the resultant dictionaries for each file\n",
        "oldDictionary = getWordsList('data1.txt')\n",
        "for i in range(2, 5):\n",
        "  newDictionary = getWordsList('data'+str(i)+'.txt')\n",
        "  oldDictionary = {k: oldDictionary.get(k, 0) + newDictionary.get(k, 0) for k in set(oldDictionary)}"
      ],
      "execution_count": 37,
      "outputs": []
    },
    {
      "cell_type": "code",
      "metadata": {
        "id": "kFVXO1Qm1ATM"
      },
      "source": [
        "#[SOLUTION]\n",
        "# 4- Call printWords function which displays the Word, count and its probability as above table\n",
        "printWords(oldDictionary)"
      ],
      "execution_count": null,
      "outputs": []
    }
  ]
}